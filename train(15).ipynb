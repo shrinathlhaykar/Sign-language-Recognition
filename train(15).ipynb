{
 "cells": [
  {
   "cell_type": "code",
   "execution_count": 1,
   "id": "c6b48640",
   "metadata": {},
   "outputs": [],
   "source": [
    "# Importing the Keras libraries and packages\n",
    "from keras.models import Sequential\n",
    "from keras.layers import Convolution2D\n",
    "from keras.layers import MaxPooling2D\n",
    "from keras.layers import Flatten\n",
    "from keras.layers import Dense , Dropout\n",
    "import tensorflow as tf\n",
    "import os"
   ]
  },
  {
   "cell_type": "code",
   "execution_count": 2,
   "id": "e17bb8e9",
   "metadata": {},
   "outputs": [
    {
     "name": "stdout",
     "output_type": "stream",
     "text": [
      "Model: \"sequential\"\n",
      "_________________________________________________________________\n",
      " Layer (type)                Output Shape              Param #   \n",
      "=================================================================\n",
      " conv2d (Conv2D)             (None, 126, 126, 32)      320       \n",
      "                                                                 \n",
      " max_pooling2d (MaxPooling2D  (None, 63, 63, 32)       0         \n",
      " )                                                               \n",
      "                                                                 \n",
      " conv2d_1 (Conv2D)           (None, 61, 61, 32)        9248      \n",
      "                                                                 \n",
      " max_pooling2d_1 (MaxPooling  (None, 30, 30, 32)       0         \n",
      " 2D)                                                             \n",
      "                                                                 \n",
      " flatten (Flatten)           (None, 28800)             0         \n",
      "                                                                 \n",
      " dense (Dense)               (None, 128)               3686528   \n",
      "                                                                 \n",
      " dropout (Dropout)           (None, 128)               0         \n",
      "                                                                 \n",
      " dense_1 (Dense)             (None, 96)                12384     \n",
      "                                                                 \n",
      " dropout_1 (Dropout)         (None, 96)                0         \n",
      "                                                                 \n",
      " dense_2 (Dense)             (None, 64)                6208      \n",
      "                                                                 \n",
      " dense_3 (Dense)             (None, 27)                1755      \n",
      "                                                                 \n",
      "=================================================================\n",
      "Total params: 3,716,443\n",
      "Trainable params: 3,716,443\n",
      "Non-trainable params: 0\n",
      "_________________________________________________________________\n"
     ]
    }
   ],
   "source": [
    "sz = 128\n",
    "# Step 1 - Building the CNN\n",
    "\n",
    "\n",
    "classifier = Sequential()\n",
    "\n",
    "\n",
    "classifier.add(Convolution2D(32, (3, 3), input_shape=(sz, sz, 1), activation='relu'))\n",
    "classifier.add(MaxPooling2D(pool_size=(2, 2)))\n",
    "\n",
    "classifier.add(Convolution2D(32, (3, 3), activation='relu'))\n",
    "\n",
    "classifier.add(MaxPooling2D(pool_size=(2, 2)))\n",
    "\n",
    "classifier.add(Flatten())\n",
    "\n",
    "# Adding a fully connected layer\n",
    "classifier.add(Dense(units=128, activation='relu'))\n",
    "classifier.add(Dropout(0.40))\n",
    "classifier.add(Dense(units=96, activation='relu'))\n",
    "classifier.add(Dropout(0.40))\n",
    "classifier.add(Dense(units=64, activation='relu'))\n",
    "classifier.add(Dense(units=27, activation='softmax'))\n",
    "classifier.compile(optimizer='adam', loss='categorical_crossentropy', metrics=['accuracy']) \n",
    "\n",
    "\n",
    "# Step 2 - Preparing the train/test data and training the model\n",
    "classifier.summary()"
   ]
  },
  {
   "cell_type": "code",
   "execution_count": 3,
   "id": "daeffcdd",
   "metadata": {},
   "outputs": [],
   "source": [
    "from keras.preprocessing.image import ImageDataGenerator"
   ]
  },
  {
   "cell_type": "code",
   "execution_count": 4,
   "id": "2e4cda63",
   "metadata": {},
   "outputs": [],
   "source": [
    "batch_size = 16\n",
    "img_height = 128\n",
    "img_width = 128\n",
    "data_dir='D:\\B.Tech\\MegaProject\\DatasetNew\\data\\train'"
   ]
  },
  {
   "cell_type": "code",
   "execution_count": 5,
   "id": "0339ecfc",
   "metadata": {},
   "outputs": [
    {
     "name": "stdout",
     "output_type": "stream",
     "text": [
      "Found 10800 files belonging to 27 classes.\n",
      "Using 8640 files for training.\n",
      "Found 10800 files belonging to 27 classes.\n",
      "Using 2160 files for validation.\n"
     ]
    }
   ],
   "source": [
    "data_dir='D:/B.Tech/MegaProject/DatasetNew/data/train'\n",
    "train_ds = tf.keras.utils.image_dataset_from_directory(\n",
    "  data_dir,\n",
    "  validation_split=0.2,\n",
    "  subset=\"training\",\n",
    "  seed=123,\n",
    "  color_mode='grayscale',  \n",
    "  image_size=(128, 128),\n",
    "  batch_size=10)\n",
    "\n",
    "val_ds = tf.keras.utils.image_dataset_from_directory(\n",
    "  data_dir,\n",
    "  validation_split=0.2,\n",
    "  subset=\"validation\",\n",
    "  seed=123,\n",
    "  color_mode='grayscale',  \n",
    "  image_size=(128, 128),\n",
    "  batch_size=10)"
   ]
  },
  {
   "cell_type": "code",
   "execution_count": 4,
   "id": "0a4d2f27",
   "metadata": {},
   "outputs": [
    {
     "name": "stdout",
     "output_type": "stream",
     "text": [
      "Found 10800 images belonging to 27 classes.\n",
      "Found 2700 images belonging to 27 classes.\n"
     ]
    }
   ],
   "source": [
    "from keras.preprocessing.image import ImageDataGenerator\n",
    "\n",
    "train_datagen = ImageDataGenerator(\n",
    "        rescale=1./255,\n",
    "        shear_range=0.2,\n",
    "        zoom_range=0.2,\n",
    "        horizontal_flip=True)\n",
    "\n",
    "test_datagen = ImageDataGenerator(rescale=1./255)\n",
    "\n",
    "training_set = train_datagen.flow_from_directory('D:/B.Tech/MegaProject/DatasetNew/data/train',target_size=(sz, sz),batch_size=10,color_mode='grayscale',class_mode='categorical')\n",
    "\n",
    "test_set = test_datagen.flow_from_directory('D:/B.Tech/MegaProject/DatasetNew/data/test',target_size=(sz , sz),batch_size=10,color_mode='grayscale',class_mode='categorical')"
   ]
  },
  {
   "cell_type": "code",
   "execution_count": 7,
   "id": "24e64cd4",
   "metadata": {},
   "outputs": [
    {
     "name": "stdout",
     "output_type": "stream",
     "text": [
      "Epoch 1/5\n",
      "1080/1080 [==============================] - 137s 126ms/step - loss: 1.3681 - accuracy: 0.5933 - val_loss: 0.0339 - val_accuracy: 0.9941\n",
      "Epoch 2/5\n",
      "1080/1080 [==============================] - 126s 116ms/step - loss: 0.3820 - accuracy: 0.8768 - val_loss: 0.0096 - val_accuracy: 0.9981\n",
      "Epoch 3/5\n",
      "1080/1080 [==============================] - 114s 106ms/step - loss: 0.2756 - accuracy: 0.9085 - val_loss: 0.0127 - val_accuracy: 0.9989\n",
      "Epoch 4/5\n",
      "1080/1080 [==============================] - 110s 102ms/step - loss: 0.2218 - accuracy: 0.9263 - val_loss: 0.0132 - val_accuracy: 0.9956\n",
      "Epoch 5/5\n",
      "1080/1080 [==============================] - 106s 98ms/step - loss: 0.1883 - accuracy: 0.9372 - val_loss: 0.0139 - val_accuracy: 0.9948\n"
     ]
    }
   ],
   "source": [
    "epochs=5\n",
    "history = classifier.fit(\n",
    "  training_set,\n",
    "  validation_data=test_set,\n",
    "  epochs=epochs\n",
    ")"
   ]
  },
  {
   "cell_type": "code",
   "execution_count": 5,
   "id": "ebfcc405",
   "metadata": {},
   "outputs": [
    {
     "name": "stdout",
     "output_type": "stream",
     "text": [
      "Epoch 1/15\n",
      "1080/1080 [==============================] - 95s 87ms/step - loss: 1.3489 - accuracy: 0.5943 - val_loss: 0.1029 - val_accuracy: 0.9770\n",
      "Epoch 2/15\n",
      "1080/1080 [==============================] - 96s 89ms/step - loss: 0.3252 - accuracy: 0.8907 - val_loss: 0.0479 - val_accuracy: 0.9885\n",
      "Epoch 3/15\n",
      "1080/1080 [==============================] - 98s 91ms/step - loss: 0.2279 - accuracy: 0.9263 - val_loss: 0.0666 - val_accuracy: 0.9807\n",
      "Epoch 4/15\n",
      "1080/1080 [==============================] - 99s 91ms/step - loss: 0.1843 - accuracy: 0.9421 - val_loss: 0.0408 - val_accuracy: 0.9867\n",
      "Epoch 5/15\n",
      "1080/1080 [==============================] - 96s 89ms/step - loss: 0.1535 - accuracy: 0.9531 - val_loss: 0.0222 - val_accuracy: 0.9926\n",
      "Epoch 6/15\n",
      "1080/1080 [==============================] - 97s 90ms/step - loss: 0.1416 - accuracy: 0.9532 - val_loss: 0.0297 - val_accuracy: 0.9904\n",
      "Epoch 7/15\n",
      "1080/1080 [==============================] - 97s 90ms/step - loss: 0.1193 - accuracy: 0.9624 - val_loss: 0.0627 - val_accuracy: 0.9730\n",
      "Epoch 8/15\n",
      "1080/1080 [==============================] - 98s 90ms/step - loss: 0.1067 - accuracy: 0.9665 - val_loss: 0.0199 - val_accuracy: 0.9896\n",
      "Epoch 9/15\n",
      "1080/1080 [==============================] - 96s 89ms/step - loss: 0.1049 - accuracy: 0.9672 - val_loss: 0.0771 - val_accuracy: 0.9752\n",
      "Epoch 10/15\n",
      "1080/1080 [==============================] - 98s 90ms/step - loss: 0.1038 - accuracy: 0.9657 - val_loss: 0.0172 - val_accuracy: 0.9922\n",
      "Epoch 11/15\n",
      "1080/1080 [==============================] - 98s 90ms/step - loss: 0.0813 - accuracy: 0.9744 - val_loss: 0.0229 - val_accuracy: 0.9915\n",
      "Epoch 12/15\n",
      "1080/1080 [==============================] - 97s 90ms/step - loss: 0.0856 - accuracy: 0.9742 - val_loss: 0.0282 - val_accuracy: 0.9900\n",
      "Epoch 13/15\n",
      "1080/1080 [==============================] - 98s 91ms/step - loss: 0.0748 - accuracy: 0.9772 - val_loss: 0.0156 - val_accuracy: 0.9948\n",
      "Epoch 14/15\n",
      "1080/1080 [==============================] - 99s 92ms/step - loss: 0.0759 - accuracy: 0.9782 - val_loss: 0.0178 - val_accuracy: 0.9959\n",
      "Epoch 15/15\n",
      "1080/1080 [==============================] - 98s 91ms/step - loss: 0.0626 - accuracy: 0.9802 - val_loss: 0.0427 - val_accuracy: 0.9904\n"
     ]
    }
   ],
   "source": [
    "from keras import callbacks\n",
    "earlystopping = callbacks.EarlyStopping(monitor =\"val_loss\",\n",
    "                                        mode =\"min\", patience = 5,\n",
    "                                        restore_best_weights = True)\n",
    "\n",
    "history = classifier.fit(training_set,\n",
    "                        epochs = 15, validation_data =test_set,\n",
    "                        callbacks =[earlystopping])\n"
   ]
  },
  {
   "cell_type": "code",
   "execution_count": 6,
   "id": "ea74c40a",
   "metadata": {},
   "outputs": [
    {
     "data": {
      "image/png": "[encoded data removed]",
      "text/plain": [
       "<Figure size 576x576 with 2 Axes>"
      ]
     },
     "metadata": {
      "needs_background": "light"
     },
     "output_type": "display_data"
    }
   ],
   "source": [
    "import matplotlib.pyplot as plt\n",
    "epochs=15\n",
    "acc = history.history['accuracy']\n",
    "val_acc = history.history['val_accuracy']\n",
    "\n",
    "loss = history.history['loss']\n",
    "val_loss = history.history['val_loss']\n",
    "\n",
    "epochs_range = range(epochs)\n",
    "\n",
    "plt.figure(figsize=(8, 8))\n",
    "plt.subplot(1, 2, 1)\n",
    "plt.plot(epochs_range, acc, label='Training Accuracy')\n",
    "plt.plot(epochs_range, val_acc, label='Validation Accuracy')\n",
    "plt.legend(loc='lower right')\n",
    "plt.title('Training and Validation Accuracy')\n",
    "\n",
    "plt.subplot(1, 2, 2)\n",
    "plt.plot(epochs_range, loss, label='Training Loss')\n",
    "plt.plot(epochs_range, val_loss, label='Validation Loss')\n",
    "plt.legend(loc='upper right')\n",
    "plt.title('Training and Validation Loss')\n",
    "plt.show()"
   ]
  },
  {
   "cell_type": "code",
   "execution_count": 7,
   "id": "bac8f3d6",
   "metadata": {},
   "outputs": [
    {
     "name": "stdout",
     "output_type": "stream",
     "text": [
      "Model Saved\n",
      "Weights saved\n"
     ]
    }
   ],
   "source": [
    "model_json = classifier.to_json()\n",
    "with open(\"model-version3.json\", \"w\") as json_file:\n",
    "    json_file.write(model_json)\n",
    "print('Model Saved')\n",
    "classifier.save_weights('model-version3.h5')\n",
    "print('Weights saved')"
   ]
  },
  {
   "cell_type": "code",
   "execution_count": 7,
   "id": "06c03dde",
   "metadata": {},
   "outputs": [],
   "source": [
    "from keras.models import model_from_json\n",
    "json_file = open(\"model-version2.json\", \"r\")\n",
    "model_json = json_file.read()\n",
    "json_file.close()\n",
    "model = model_from_json(model_json)\n",
    "model.load_weights(\"model-version2.h5\")"
   ]
  },
  {
   "cell_type": "code",
   "execution_count": 10,
   "id": "f2015676",
   "metadata": {},
   "outputs": [
    {
     "name": "stdout",
     "output_type": "stream",
     "text": [
      "Found 2700 images belonging to 27 classes.\n"
     ]
    }
   ],
   "source": [
    "from sklearn.metrics import confusion_matrix\n",
    "from keras.preprocessing.image import ImageDataGenerator\n",
    "\n",
    "test_datagen = ImageDataGenerator()\n",
    "\n",
    "test_generator = test_datagen.flow_from_directory('D:/B.Tech/MegaProject/DatasetNew/data/test',\n",
    "\n",
    "                                                    target_size=(128, 128),\n",
    "\n",
    "                                                    batch_size=1,\n",
    "                                                    color_mode='grayscale',\n",
    "\n",
    "                                                    class_mode='categorical', shuffle=False)"
   ]
  },
  {
   "cell_type": "code",
   "execution_count": 8,
   "id": "4f352ac5",
   "metadata": {},
   "outputs": [
    {
     "name": "stdout",
     "output_type": "stream",
     "text": [
      "['0', 'A', 'B', 'C', 'D', 'E', 'F', 'G', 'H', 'I', 'J', 'K', 'L', 'M', 'N', 'O', 'P', 'Q', 'R', 'S', 'T', 'U', 'V', 'W', 'X', 'Y', 'Z']\n"
     ]
    }
   ],
   "source": [
    "class_names = ['0', 'A', 'B', 'C', 'D', 'E', 'F', 'G', 'H', 'I', 'J', 'K', 'L', 'M', 'N', 'O', 'P', 'Q', 'R', 'S', 'T', 'U', 'V', 'W', 'X', 'Y', 'Z']\n",
    "print(class_names)"
   ]
  },
  {
   "cell_type": "code",
   "execution_count": 11,
   "id": "0c75dc5f",
   "metadata": {},
   "outputs": [
    {
     "name": "stderr",
     "output_type": "stream",
     "text": [
      "C:\\Users\\Shrinath\\AppData\\Local\\Temp\\ipykernel_6672\\1485976779.py:2: UserWarning: `Model.predict_generator` is deprecated and will be removed in a future version. Please use `Model.predict`, which supports generators.\n",
      "  Y_pred = classifier.predict_generator(test_generator)\n"
     ]
    }
   ],
   "source": [
    "import numpy as np\n",
    "Y_pred = classifier.predict_generator(test_generator)\n",
    "y_pred = np.argmax(Y_pred, axis=1)"
   ]
  },
  {
   "cell_type": "code",
   "execution_count": 13,
   "id": "2f9a0010",
   "metadata": {},
   "outputs": [],
   "source": [
    "def plot_confusion_matrix(cm, classes, normalize=False, title='Confusion matrix', cmap=plt.cm.Blues):\n",
    "\n",
    "    \"\"\"\n",
    "\n",
    "    This function prints and plots the confusion matrix.\n",
    "\n",
    "    Normalization can be applied by setting `normalize=True`.\n",
    "\n",
    "    \"\"\"\n",
    "\n",
    "    plt.figure(figsize=(10,10))\n",
    "\n",
    "\n",
    "\n",
    "    plt.imshow(cm, interpolation='nearest', cmap=cmap)\n",
    "\n",
    "    plt.title(title)\n",
    "\n",
    "    plt.colorbar()\n",
    "\n",
    "\n",
    "\n",
    "    tick_marks = np.arange(len(classes))\n",
    "\n",
    "    plt.xticks(tick_marks, classes, rotation=45)\n",
    "\n",
    "    plt.yticks(tick_marks, classes)\n",
    "\n",
    "\n",
    "\n",
    "    if normalize:\n",
    "\n",
    "        cm = cm.astype('float') / cm.sum(axis=1)[:, np.newaxis]\n",
    "\n",
    "        cm = np.around(cm, decimals=2)\n",
    "\n",
    "        cm[np.isnan(cm)] = 0.0\n",
    "\n",
    "        print(\"Normalized confusion matrix\")\n",
    "\n",
    "    else:\n",
    "\n",
    "        print('Confusion matrix, without normalization')\n",
    "\n",
    "    thresh = cm.max() / 2.\n",
    "\n",
    "    for i, j in itertools.product(range(cm.shape[0]), range(cm.shape[1])):\n",
    "\n",
    "        plt.text(j, i, cm[i, j],\n",
    "\n",
    "                 horizontalalignment=\"center\",\n",
    "\n",
    "                 color=\"white\" if cm[i, j] > thresh else \"black\")\n",
    "\n",
    "    plt.tight_layout()\n",
    "\n",
    "    plt.ylabel('True label')\n",
    "\n",
    "    plt.xlabel('Predicted label')"
   ]
  },
  {
   "cell_type": "code",
   "execution_count": 15,
   "id": "230f131d",
   "metadata": {},
   "outputs": [
    {
     "name": "stdout",
     "output_type": "stream",
     "text": [
      "Confusion Matrix\n"
     ]
    }
   ],
   "source": [
    "print('Confusion Matrix')\n",
    "cm = confusion_matrix(test_generator.classes, y_pred)"
   ]
  },
  {
   "cell_type": "code",
   "execution_count": 12,
   "id": "33bd531e",
   "metadata": {},
   "outputs": [],
   "source": [
    "import matplotlib.pyplot as plt"
   ]
  },
  {
   "cell_type": "code",
   "execution_count": 16,
   "id": "b42ae7ee",
   "metadata": {},
   "outputs": [
    {
     "name": "stdout",
     "output_type": "stream",
     "text": [
      "Confusion matrix, without normalization\n"
     ]
    },
    {
     "data": {
      "image/png": "[encoded data removed]",
      "text/plain": [
       "<Figure size 720x720 with 2 Axes>"
      ]
     },
     "metadata": {
      "needs_background": "light"
     },
     "output_type": "display_data"
    }
   ],
   "source": [
    "import itertools\n",
    "plot_confusion_matrix(cm, class_names, title='Confusion Matrix')"
   ]
  },
  {
   "cell_type": "code",
   "execution_count": 17,
   "id": "4064245d",
   "metadata": {},
   "outputs": [],
   "source": [
    "from sklearn.metrics import classification_report"
   ]
  },
  {
   "cell_type": "code",
   "execution_count": 18,
   "id": "72392963",
   "metadata": {},
   "outputs": [
    {
     "name": "stdout",
     "output_type": "stream",
     "text": [
      "Classification Report\n",
      "              precision    recall  f1-score   support\n",
      "\n",
      "           0       1.00      1.00      1.00       100\n",
      "           A       1.00      1.00      1.00       100\n",
      "           B       0.98      1.00      0.99       100\n",
      "           C       1.00      1.00      1.00       100\n",
      "           D       0.99      1.00      1.00       100\n",
      "           E       1.00      1.00      1.00       100\n",
      "           F       1.00      1.00      1.00       100\n",
      "           G       0.98      1.00      0.99       100\n",
      "           H       0.98      1.00      0.99       100\n",
      "           I       1.00      1.00      1.00       100\n",
      "           J       1.00      0.98      0.99       100\n",
      "           K       0.96      1.00      0.98       100\n",
      "           L       0.76      1.00      0.86       100\n",
      "           M       0.88      1.00      0.94       100\n",
      "           N       0.99      1.00      1.00       100\n",
      "           O       1.00      1.00      1.00       100\n",
      "           P       1.00      1.00      1.00       100\n",
      "           Q       1.00      1.00      1.00       100\n",
      "           R       1.00      1.00      1.00       100\n",
      "           S       1.00      0.85      0.92       100\n",
      "           T       1.00      1.00      1.00       100\n",
      "           U       1.00      1.00      1.00       100\n",
      "           V       1.00      1.00      1.00       100\n",
      "           W       1.00      1.00      1.00       100\n",
      "           X       1.00      0.60      0.75       100\n",
      "           Y       1.00      1.00      1.00       100\n",
      "           Z       1.00      1.00      1.00       100\n",
      "\n",
      "    accuracy                           0.98      2700\n",
      "   macro avg       0.98      0.98      0.98      2700\n",
      "weighted avg       0.98      0.98      0.98      2700\n",
      "\n"
     ]
    }
   ],
   "source": [
    "print('Classification Report')\n",
    "\n",
    "print(classification_report(test_generator.classes, y_pred, target_names=class_names))"
   ]
  },
  {
   "cell_type": "code",
   "execution_count": null,
   "id": "e2e33870",
   "metadata": {},
   "outputs": [],
   "source": []
  }
 ],
 "metadata": {
  "kernelspec": {
   "display_name": "Python 3 (ipykernel)",
   "language": "python",
   "name": "python3"
  },
  "language_info": {
   "codemirror_mode": {
    "name": "ipython",
    "version": 3
   },
   "file_extension": ".py",
   "mimetype": "text/x-python",
   "name": "python",
   "nbconvert_exporter": "python",
   "pygments_lexer": "ipython3",
   "version": "3.8.6"
  }
 },
 "nbformat": 4,
 "nbformat_minor": 5
}
